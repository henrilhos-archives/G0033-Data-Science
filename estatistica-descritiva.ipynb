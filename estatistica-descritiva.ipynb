{
  "cells": [
    {
      "cell_type": "markdown",
      "metadata": {
        "id": "CydQnMBIRHnF"
      },
      "source": [
        "\n",
        "# Estatística - Descritiva \n",
        "\n",
        "\n",
        "Um breve resumo de alguns comandos python.\n",
        "\n",
        "\n",
        "Resultado Esperado\n",
        "\n",
        "1. Entendimento de médias, medianas, desvio padrão e quartis.\n",
        "1. Entendimento de propriedades das médias\n",
        "1. Entender como sumarizar dados.\n",
        "1. Mais importante, entender as falácias de sumarização de dados.\n",
        "\n",
        "\n",
        "\n",
        "\n",
        "\n"
      ]
    },
    {
      "cell_type": "code",
      "execution_count": 2,
      "metadata": {
        "execution": {
          "iopub.execute_input": "2021-02-03T20:49:04.372950Z",
          "iopub.status.busy": "2021-02-03T20:49:04.371820Z",
          "iopub.status.idle": "2021-02-03T20:49:05.162576Z",
          "shell.execute_reply": "2021-02-03T20:49:05.163935Z"
        },
        "id": "z4eW4aPqRHnI"
      },
      "outputs": [],
      "source": [
        "import numpy as np\n",
        "import matplotlib.pyplot as plt\n",
        "import pandas as pd"
      ]
    },
    {
      "cell_type": "code",
      "execution_count": 3,
      "metadata": {
        "execution": {
          "iopub.execute_input": "2021-02-03T20:49:05.172879Z",
          "iopub.status.busy": "2021-02-03T20:49:05.171982Z",
          "iopub.status.idle": "2021-02-03T20:49:05.176749Z",
          "shell.execute_reply": "2021-02-03T20:49:05.176060Z"
        },
        "id": "HRa1HLPIRHnJ"
      },
      "outputs": [],
      "source": [
        "plt.style.use(\"seaborn-v0_8-whitegrid\")\n",
        "\n",
        "plt.rcParams['figure.figsize']  = (16, 10)\n",
        "plt.rcParams['axes.labelsize']  = 20\n",
        "plt.rcParams['axes.titlesize']  = 20\n",
        "plt.rcParams['legend.fontsize'] = 20\n",
        "plt.rcParams['xtick.labelsize'] = 20\n",
        "plt.rcParams['ytick.labelsize'] = 20\n",
        "plt.rcParams['lines.linewidth'] = 4"
      ]
    },
    {
      "cell_type": "code",
      "execution_count": 4,
      "metadata": {
        "colab": {
          "base_uri": "https://localhost:8080/"
        },
        "execution": {
          "iopub.execute_input": "2021-02-03T20:49:05.181009Z",
          "iopub.status.busy": "2021-02-03T20:49:05.180035Z",
          "iopub.status.idle": "2021-02-03T20:49:05.184565Z",
          "shell.execute_reply": "2021-02-03T20:49:05.187896Z"
        },
        "id": "YV_yBVeyRHnJ",
        "outputId": "b6c052c8-4611-4c67-a733-2113ed55f4b1"
      },
      "outputs": [
        {
          "data": {
            "text/plain": [
              "<contextlib.ExitStack at 0x1286d7ee0>"
            ]
          },
          "execution_count": 4,
          "metadata": {},
          "output_type": "execute_result"
        }
      ],
      "source": [
        "plt.ion()"
      ]
    },
    {
      "cell_type": "code",
      "execution_count": 5,
      "metadata": {
        "execution": {
          "iopub.execute_input": "2021-02-03T20:49:05.194908Z",
          "iopub.status.busy": "2021-02-03T20:49:05.194115Z",
          "iopub.status.idle": "2021-02-03T20:49:05.199099Z",
          "shell.execute_reply": "2021-02-03T20:49:05.199845Z"
        },
        "id": "gES_1ihbRHnJ"
      },
      "outputs": [],
      "source": [
        "def despine(ax=None):\n",
        "    if ax is None:\n",
        "        ax = plt.gca()\n",
        "    # Esconder linhas curvadas a esquerda e acima\n",
        "    ax.spines['right'].set_visible(False)\n",
        "    ax.spines['top'].set_visible(False)\n",
        "\n",
        "    # mostrar marcas a esquerda a linhas curvadas abaixo\n",
        "    ax.yaxis.set_ticks_position('left')\n",
        "    ax.xaxis.set_ticks_position('bottom')"
      ]
    },
    {
      "cell_type": "markdown",
      "metadata": {
        "id": "_gY9ckvwRHnK"
      },
      "source": [
        "\n",
        "## Introdução\n",
        "\n",
        "A estatística refere-se à matemática e técnicas com as quais pode-se entender os dados. Para introdução a Ciência de Dados, vale a pena relembrar: sumarização de bases de dados com médias, medianas e desvios.\n",
        "\n",
        "## Descrevendo uma coluna bem comportada de dados\n",
        "\n",
        "Os histogramas pode ajudar no entendimento dos dados. Como ponto de partida, um dataset com as músicas populares (semanalmente) de 2000 até 2018 será utilizado para os exemplos de visualização e descrição de dados. \n",
        "\n",
        "**Sempre visualize seus dados**. \n",
        "\n",
        "Observe a indicação de `na_values`."
      ]
    },
    {
      "cell_type": "markdown",
      "metadata": {
        "id": "vXNeuA3hRHnK"
      },
      "source": [
        "#### Histogramas"
      ]
    },
    {
      "cell_type": "code",
      "execution_count": 6,
      "metadata": {
        "execution": {
          "iopub.execute_input": "2021-02-03T20:49:05.206984Z",
          "iopub.status.busy": "2021-02-03T20:49:05.206523Z",
          "iopub.status.idle": "2021-02-03T20:49:10.708712Z",
          "shell.execute_reply": "2021-02-03T20:49:10.709227Z"
        },
        "id": "imEjRnTJRHnK"
      },
      "outputs": [],
      "source": [
        "# 1. importar os dados.\n",
        "df = pd.read_csv('https://media.githubusercontent.com/media/icd-ufmg/material/master/aulas/05-Tendencias-Centrais/billboard_2000_2018_spotify_lyrics.csv',\n",
        "                 encoding='iso-8859-1', na_values='unknown')\n",
        "# 2. Removendo na\n",
        "df = df[['date', 'artist', 'title', 'duration_ms', 'spotify_id', 'lyrics']]\n",
        "df = df.dropna() # executar após a exibição do df bruto \n",
        "#df.count()\n",
        "#df.head()"
      ]
    },
    {
      "cell_type": "markdown",
      "metadata": {
        "id": "33MpWADARHnL"
      },
      "source": [
        "Quantas músicas há no dataset, agora no df!"
      ]
    },
    {
      "cell_type": "code",
      "execution_count": 7,
      "metadata": {
        "colab": {
          "base_uri": "https://localhost:8080/"
        },
        "execution": {
          "iopub.execute_input": "2021-02-03T20:49:10.715376Z",
          "iopub.status.busy": "2021-02-03T20:49:10.714546Z",
          "iopub.status.idle": "2021-02-03T20:49:10.717694Z",
          "shell.execute_reply": "2021-02-03T20:49:10.718503Z"
        },
        "id": "yyHQ4JEhRHnL",
        "outputId": "1a38d3cf-f2ff-40d5-fdcf-7bd28532acb8"
      },
      "outputs": [
        {
          "data": {
            "text/plain": [
              "(7193,)"
            ]
          },
          "execution_count": 7,
          "metadata": {},
          "output_type": "execute_result"
        }
      ],
      "source": [
        "dur = df['duration_ms']\n",
        "dur.shape"
      ]
    },
    {
      "cell_type": "markdown",
      "metadata": {
        "id": "zn1pqp--RHnL"
      },
      "source": [
        "Remover duplicatas, uma músicas pode aparecer mais de uma vez na base!"
      ]
    },
    {
      "cell_type": "code",
      "execution_count": 8,
      "metadata": {
        "colab": {
          "base_uri": "https://localhost:8080/"
        },
        "execution": {
          "iopub.execute_input": "2021-02-03T20:49:10.722680Z",
          "iopub.status.busy": "2021-02-03T20:49:10.722166Z",
          "iopub.status.idle": "2021-02-03T20:49:10.730169Z",
          "shell.execute_reply": "2021-02-03T20:49:10.729771Z"
        },
        "id": "a11cJsz9RHnM",
        "outputId": "c7878683-5bab-48ca-99d1-02117c245f31"
      },
      "outputs": [
        {
          "data": {
            "text/plain": [
              "(5387,)"
            ]
          },
          "execution_count": 8,
          "metadata": {},
          "output_type": "execute_result"
        }
      ],
      "source": [
        "dur = dur.drop_duplicates()\n",
        "dur.shape"
      ]
    },
    {
      "cell_type": "markdown",
      "metadata": {
        "id": "XIqGV-XURHnM"
      },
      "source": [
        "Converter a duração para minutos."
      ]
    },
    {
      "cell_type": "code",
      "execution_count": 9,
      "metadata": {
        "colab": {
          "base_uri": "https://localhost:8080/"
        },
        "execution": {
          "iopub.execute_input": "2021-02-03T20:49:10.735553Z",
          "iopub.status.busy": "2021-02-03T20:49:10.735071Z",
          "iopub.status.idle": "2021-02-03T20:49:10.738537Z",
          "shell.execute_reply": "2021-02-03T20:49:10.739261Z"
        },
        "id": "JU8CTOaORHnM",
        "outputId": "527c510b-c374-4ba5-ccfa-ff7d5f02ca6b"
      },
      "outputs": [
        {
          "data": {
            "text/plain": [
              "1    2.763667\n",
              "2    2.425117\n",
              "5    3.465083\n",
              "7    3.513117\n",
              "8    3.220000\n",
              "Name: duration_ms, dtype: float64"
            ]
          },
          "execution_count": 9,
          "metadata": {},
          "output_type": "execute_result"
        }
      ],
      "source": [
        "data = dur / (1000 * 60)\n",
        "data.head()"
      ]
    },
    {
      "cell_type": "markdown",
      "metadata": {
        "id": "iUk7hflRRHnM"
      },
      "source": [
        "Agora, o histograma!!!"
      ]
    },
    {
      "cell_type": "code",
      "execution_count": 10,
      "metadata": {
        "colab": {
          "base_uri": "https://localhost:8080/",
          "height": 620
        },
        "execution": {
          "iopub.execute_input": "2021-02-03T20:49:10.761444Z",
          "iopub.status.busy": "2021-02-03T20:49:10.752639Z",
          "iopub.status.idle": "2021-02-03T20:49:11.086744Z",
          "shell.execute_reply": "2021-02-03T20:49:11.086005Z"
        },
        "id": "loSqeTZ8RHnM",
        "outputId": "aabeb3a7-01c7-4aaf-da76-e4e973fd6c85"
      },
      "outputs": [
        {
          "data": {
            "image/png": "[encoded data removed]",
            "text/plain": [
              "<Figure size 1600x1000 with 1 Axes>"
            ]
          },
          "metadata": {},
          "output_type": "display_data"
        }
      ],
      "source": [
        "plt.hist(data, bins=20, edgecolor='k')\n",
        "plt.xlabel('Duração em minutos')\n",
        "plt.ylabel('Frequência.')\n",
        "despine(plt.gca())\n",
        "plt.show()"
      ]
    },
    {
      "cell_type": "markdown",
      "metadata": {
        "id": "887RZXSaRHnM"
      },
      "source": [
        "#### CDFs"
      ]
    },
    {
      "cell_type": "markdown",
      "metadata": {
        "id": "3basG0V0RHnN"
      },
      "source": [
        "Construir uma CDF. A função de nome CDF (em inglês de Cumulative Distribution Function) ou simplesmente Função Distribuição que é igual à probabilidade de que a variável aleatória X assuma um valor inferior ou igual a determinado x(**caso de distruição uniforme x pode estar no intervalo de [0 e 1]**. Note que, via de regra, para cada x, a função CDF assumirá um valor diferente. Para estimar uma CDF de forma empírica, tem-se os seguintes passos:\n",
        "\n",
        "1. Ordenar os dados `x = np.sort(data)`\n",
        "1. Contar os pontos menores do que `x[i]` existem para cada `i`\n",
        "    1. Para isto, pode-se utilizar um vetor `y = np.arange(len(data))`. y é um contagem cumulativa.\n",
        "    1. Em y há a contagem de quantos pontos existe até um ponto i, i.e., `y[i] = #pts < x[i]`.\n",
        "1. Normalize `y`"
      ]
    },
    {
      "cell_type": "code",
      "execution_count": null,
      "metadata": {
        "execution": {
          "iopub.execute_input": "2021-02-03T20:49:11.098255Z",
          "iopub.status.busy": "2021-02-03T20:49:11.097463Z",
          "iopub.status.idle": "2021-02-03T20:49:11.101976Z",
          "shell.execute_reply": "2021-02-03T20:49:11.102656Z"
        },
        "id": "fObX-6ggRHnN"
      },
      "outputs": [],
      "source": [
        "def ecdf(data):\n",
        "    x = np.sort(data)\n",
        "    count = np.arange(len(data))\n",
        "    y = count.cumsum()\n",
        "    y = y / y.max()\n",
        "    return x, y"
      ]
    },
    {
      "cell_type": "markdown",
      "metadata": {
        "id": "BIg3IEN6Gvqy"
      },
      "source": [
        "Passo a passo da função acima..."
      ]
    },
    {
      "cell_type": "code",
      "execution_count": null,
      "metadata": {
        "id": "s1yCQZQpG3av"
      },
      "outputs": [],
      "source": [
        "def ecdf(data):\n",
        "    #x = np.sort(data)\n",
        "    #return x\n",
        "  \n",
        "    count = np.arange(len(data))\n",
        "    y = count.cumsum()\n",
        "    y = y / y.max()\n",
        "    return x,  y"
      ]
    },
    {
      "cell_type": "code",
      "execution_count": null,
      "metadata": {
        "colab": {
          "base_uri": "https://localhost:8080/"
        },
        "id": "KwdB7fNPHfk6",
        "outputId": "cbec3ddf-ead3-417a-df3f-97c3f2cf35b3"
      },
      "outputs": [
        {
          "name": "stdout",
          "output_type": "stream",
          "text": [
            "(array([       -inf,  0.61778333,  0.75      , ...,  9.96555   ,\n",
            "       11.47421667, 12.02633333]), array([0.00000000e+00, 6.89313321e-08, 2.06793996e-07, ...,\n",
            "       9.99257541e-01, 9.99628736e-01, 1.00000000e+00]))\n"
          ]
        }
      ],
      "source": [
        "print(ecdf(data))"
      ]
    },
    {
      "cell_type": "code",
      "execution_count": null,
      "metadata": {
        "colab": {
          "base_uri": "https://localhost:8080/",
          "height": 620
        },
        "execution": {
          "iopub.execute_input": "2021-02-03T20:49:11.108665Z",
          "iopub.status.busy": "2021-02-03T20:49:11.107846Z",
          "iopub.status.idle": "2021-02-03T20:49:11.646709Z",
          "shell.execute_reply": "2021-02-03T20:49:11.647231Z"
        },
        "id": "xeshxWvARHnN",
        "outputId": "dafc5fe9-8337-4b6c-c697-55541e30eacc"
      },
      "outputs": [
        {
          "data": {
            "image/png": "[encoded data removed]",
            "text/plain": [
              "<Figure size 1152x720 with 1 Axes>"
            ]
          },
          "metadata": {},
          "output_type": "display_data"
        }
      ],
      "source": [
        "x, y = ecdf(data)\n",
        "plt.plot(x, y)\n",
        "plt.xlabel('Duração em minutos')\n",
        "plt.ylabel('$P(X \\leq x)$')\n",
        "despine()\n",
        "plt.show()"
      ]
    },
    {
      "cell_type": "markdown",
      "metadata": {
        "id": "6QBTGsG6RHnN"
      },
      "source": [
        "A biblioteca **statsmodels** tem a mesma função. "
      ]
    },
    {
      "cell_type": "code",
      "execution_count": null,
      "metadata": {
        "colab": {
          "base_uri": "https://localhost:8080/",
          "height": 620
        },
        "execution": {
          "iopub.execute_input": "2021-02-03T20:49:11.654982Z",
          "iopub.status.busy": "2021-02-03T20:49:11.654504Z",
          "iopub.status.idle": "2021-02-03T20:49:12.222566Z",
          "shell.execute_reply": "2021-02-03T20:49:12.221992Z"
        },
        "id": "8C5ElND-RHnN",
        "outputId": "105b8d06-adb2-41ab-ddfe-7ed83f9f79a9"
      },
      "outputs": [
        {
          "data": {
            "image/png": "[encoded data removed]",
            "text/plain": [
              "<Figure size 1152x720 with 1 Axes>"
            ]
          },
          "metadata": {},
          "output_type": "display_data"
        }
      ],
      "source": [
        "from statsmodels.distributions.empirical_distribution import ECDF\n",
        "ecdf = ECDF(data)\n",
        "x = ecdf.x\n",
        "y = ecdf.y\n",
        "plt.plot(x, y)\n",
        "plt.xlabel('Duração em minutos')\n",
        "plt.ylabel('$P(X \\leq x)$')\n",
        "despine()\n",
        "plt.show()"
      ]
    },
    {
      "cell_type": "markdown",
      "metadata": {
        "id": "54wcBMiZRHnN"
      },
      "source": [
        "## Tendências Centrais\n",
        "\n",
        "Tendência central é uma medida de valores numa amostra que identifica os diferentes pontos centrais nos dados, muitas vezes referidos como “médias”. As medidas mais comuns de tendência central são a média, a mediana e a moda.\n",
        "\n",
        "Sumarização de dados, sumarizar os dados das músicas. Uma descrição óbvia de qualquer conjunto $x_1, x_2, ..., x_n$ de dados é simplesmente os dados em si:"
      ]
    },
    {
      "cell_type": "code",
      "execution_count": null,
      "metadata": {
        "colab": {
          "base_uri": "https://localhost:8080/"
        },
        "execution": {
          "iopub.execute_input": "2021-02-03T20:49:12.229696Z",
          "iopub.status.busy": "2021-02-03T20:49:12.228983Z",
          "iopub.status.idle": "2021-02-03T20:49:12.231996Z",
          "shell.execute_reply": "2021-02-03T20:49:12.232704Z"
        },
        "id": "oggZLbJrRHnO",
        "outputId": "6602f2d7-79a2-4d03-ab09-25a247e8f0c9"
      },
      "outputs": [
        {
          "data": {
            "text/plain": [
              "1    2.763667\n",
              "2    2.425117\n",
              "5    3.465083\n",
              "7    3.513117\n",
              "8    3.220000\n",
              "Name: duration_ms, dtype: float64"
            ]
          },
          "execution_count": 34,
          "metadata": {},
          "output_type": "execute_result"
        }
      ],
      "source": [
        "data.head()"
      ]
    },
    {
      "cell_type": "markdown",
      "metadata": {
        "id": "A0ToJruoRHnO"
      },
      "source": [
        "Para um conjunto de dados pequeno o suficiente, isso pode até ser a melhor descrição. Mas, para um conjunto de dados maior, isso é difícil e provavelmente opaco. Por esse motivo, a estatística pode ajudar a destilar e comunicar características relevantes dos dados."
      ]
    },
    {
      "cell_type": "markdown",
      "metadata": {
        "id": "YNscZLoVRHnO"
      },
      "source": [
        "Iniciar de forma simples verificando o número de pontos de dados:"
      ]
    },
    {
      "cell_type": "code",
      "execution_count": null,
      "metadata": {
        "colab": {
          "base_uri": "https://localhost:8080/"
        },
        "execution": {
          "iopub.execute_input": "2021-02-03T20:49:12.237627Z",
          "iopub.status.busy": "2021-02-03T20:49:12.236898Z",
          "iopub.status.idle": "2021-02-03T20:49:12.239380Z",
          "shell.execute_reply": "2021-02-03T20:49:12.240067Z"
        },
        "id": "JvNdozOVRHnO",
        "outputId": "f56e4889-3d6f-4e05-c72e-686dc8a3d0a1"
      },
      "outputs": [
        {
          "name": "stdout",
          "output_type": "stream",
          "text": [
            "numero de pontos: 5387\n"
          ]
        }
      ],
      "source": [
        "num_points = len(data)\n",
        "print(\"numero de pontos:\", num_points)"
      ]
    },
    {
      "cell_type": "markdown",
      "metadata": {
        "id": "xEWJnO_ARHnO"
      },
      "source": [
        "Um vetor numpy tem diferentes atributos para pegar a dimensão."
      ]
    },
    {
      "cell_type": "code",
      "execution_count": null,
      "metadata": {
        "colab": {
          "base_uri": "https://localhost:8080/"
        },
        "execution": {
          "iopub.execute_input": "2021-02-03T20:49:12.245621Z",
          "iopub.status.busy": "2021-02-03T20:49:12.244930Z",
          "iopub.status.idle": "2021-02-03T20:49:12.247410Z",
          "shell.execute_reply": "2021-02-03T20:49:12.248139Z"
        },
        "id": "sBeO-VftRHnO",
        "outputId": "22f68056-0c99-43fa-a78f-efa26d0804af"
      },
      "outputs": [
        {
          "data": {
            "text/plain": [
              "5387"
            ]
          },
          "execution_count": 36,
          "metadata": {},
          "output_type": "execute_result"
        }
      ],
      "source": [
        "data.size"
      ]
    },
    {
      "cell_type": "code",
      "execution_count": null,
      "metadata": {
        "colab": {
          "base_uri": "https://localhost:8080/"
        },
        "execution": {
          "iopub.execute_input": "2021-02-03T20:49:12.253029Z",
          "iopub.status.busy": "2021-02-03T20:49:12.252305Z",
          "iopub.status.idle": "2021-02-03T20:49:12.255927Z",
          "shell.execute_reply": "2021-02-03T20:49:12.256625Z"
        },
        "id": "Wn4rJ3NwRHnO",
        "outputId": "9ae8a6d9-48c1-4e20-e5a5-7f463e014aa8"
      },
      "outputs": [
        {
          "data": {
            "text/plain": [
              "(5387,)"
            ]
          },
          "execution_count": 37,
          "metadata": {},
          "output_type": "execute_result"
        }
      ],
      "source": [
        "# Shape indica o tamanho para cada dimensão, em uma matriz teríamos dois valores.\n",
        "data.shape "
      ]
    },
    {
      "cell_type": "code",
      "execution_count": null,
      "metadata": {
        "colab": {
          "base_uri": "https://localhost:8080/"
        },
        "execution": {
          "iopub.execute_input": "2021-02-03T20:49:12.260392Z",
          "iopub.status.busy": "2021-02-03T20:49:12.259753Z",
          "iopub.status.idle": "2021-02-03T20:49:12.262828Z",
          "shell.execute_reply": "2021-02-03T20:49:12.263412Z"
        },
        "id": "IYAGAlFnRHnP",
        "outputId": "9f6f4958-217e-4458-cfe2-d4cc7c2ce9c7"
      },
      "outputs": [
        {
          "data": {
            "text/plain": [
              "(7193, 6)"
            ]
          },
          "execution_count": 38,
          "metadata": {},
          "output_type": "execute_result"
        }
      ],
      "source": [
        "# note como os dados originais tem 5 colunas\n",
        "df.shape"
      ]
    },
    {
      "cell_type": "markdown",
      "metadata": {
        "id": "XRGp7mXtRHnP"
      },
      "source": [
        "Quais são o maior e menor valores do dado em questão:"
      ]
    },
    {
      "cell_type": "code",
      "execution_count": null,
      "metadata": {
        "colab": {
          "base_uri": "https://localhost:8080/"
        },
        "execution": {
          "iopub.execute_input": "2021-02-03T20:49:12.268330Z",
          "iopub.status.busy": "2021-02-03T20:49:12.267744Z",
          "iopub.status.idle": "2021-02-03T20:49:12.270709Z",
          "shell.execute_reply": "2021-02-03T20:49:12.271270Z"
        },
        "id": "ZcC8BgKQRHnP",
        "outputId": "63434947-4415-4e43-f992-11e746ed8e12"
      },
      "outputs": [
        {
          "name": "stdout",
          "output_type": "stream",
          "text": [
            "maximo:  12.026333333333334 \n",
            "minimo:  0.6177833333333334\n"
          ]
        }
      ],
      "source": [
        "largest_value = max(data) \n",
        "smallest_value = min(data)\n",
        "print(\"maximo: \", largest_value, \"\\nminimo: \", smallest_value)"
      ]
    },
    {
      "cell_type": "markdown",
      "metadata": {
        "id": "MRRenlGZRHnP"
      },
      "source": [
        "Ou, usando numpy / pandas"
      ]
    },
    {
      "cell_type": "code",
      "execution_count": null,
      "metadata": {
        "colab": {
          "base_uri": "https://localhost:8080/"
        },
        "execution": {
          "iopub.execute_input": "2021-02-03T20:49:12.274964Z",
          "iopub.status.busy": "2021-02-03T20:49:12.274298Z",
          "iopub.status.idle": "2021-02-03T20:49:12.277870Z",
          "shell.execute_reply": "2021-02-03T20:49:12.278368Z"
        },
        "id": "sezcCoxKRHnP",
        "outputId": "df187393-4929-4a17-d421-4604fa2256cf"
      },
      "outputs": [
        {
          "data": {
            "text/plain": [
              "12.026333333333334"
            ]
          },
          "execution_count": 40,
          "metadata": {},
          "output_type": "execute_result"
        }
      ],
      "source": [
        "data.max()"
      ]
    },
    {
      "cell_type": "code",
      "execution_count": null,
      "metadata": {
        "colab": {
          "base_uri": "https://localhost:8080/"
        },
        "execution": {
          "iopub.execute_input": "2021-02-03T20:49:12.283172Z",
          "iopub.status.busy": "2021-02-03T20:49:12.282529Z",
          "iopub.status.idle": "2021-02-03T20:49:12.285889Z",
          "shell.execute_reply": "2021-02-03T20:49:12.286372Z"
        },
        "id": "PDAkQ3BARHnP",
        "outputId": "e1f12352-8a7b-4d3c-82c1-30027b3c43b5"
      },
      "outputs": [
        {
          "data": {
            "text/plain": [
              "0.6177833333333334"
            ]
          },
          "execution_count": 41,
          "metadata": {},
          "output_type": "execute_result"
        }
      ],
      "source": [
        "data.min()"
      ]
    },
    {
      "cell_type": "code",
      "execution_count": null,
      "metadata": {
        "colab": {
          "base_uri": "https://localhost:8080/"
        },
        "execution": {
          "iopub.execute_input": "2021-02-03T20:49:12.290577Z",
          "iopub.status.busy": "2021-02-03T20:49:12.289807Z",
          "iopub.status.idle": "2021-02-03T20:49:12.292687Z",
          "shell.execute_reply": "2021-02-03T20:49:12.293434Z"
        },
        "id": "jbY2ScVURHnP",
        "outputId": "79d62b9e-2e41-4582-e97b-5dfd8eed3cd6"
      },
      "outputs": [
        {
          "data": {
            "text/plain": [
              "0.6177833333333334"
            ]
          },
          "execution_count": 42,
          "metadata": {},
          "output_type": "execute_result"
        }
      ],
      "source": [
        "np.min(data)"
      ]
    },
    {
      "cell_type": "markdown",
      "metadata": {
        "id": "8TVmEzF2RHnQ"
      },
      "source": [
        "Casos especiais quando há a necessidade de saber os valores em posições específicas:"
      ]
    },
    {
      "cell_type": "code",
      "execution_count": null,
      "metadata": {
        "colab": {
          "base_uri": "https://localhost:8080/"
        },
        "execution": {
          "iopub.execute_input": "2021-02-03T20:49:12.297931Z",
          "iopub.status.busy": "2021-02-03T20:49:12.297177Z",
          "iopub.status.idle": "2021-02-03T20:49:12.300514Z",
          "shell.execute_reply": "2021-02-03T20:49:12.301223Z"
        },
        "id": "aEJ-_xzcRHnQ",
        "outputId": "cb3b02e9-cc26-4bde-d4c6-ca08b08bc36e"
      },
      "outputs": [
        {
          "name": "stdout",
          "output_type": "stream",
          "text": [
            "menor valor:  0.6177833333333334\n",
            "segundo menor valor:  0.75\n",
            "segundo maior valor:  11.474216666666667\n"
          ]
        }
      ],
      "source": [
        "sorted_values = np.sort(data)\n",
        "smallest_value = sorted_values[0] \n",
        "second_smallest_value = sorted_values[1] \n",
        "second_largest_value = sorted_values[-2] \n",
        "print(\"menor valor: \", smallest_value)\n",
        "print(\"segundo menor valor: \", second_smallest_value)\n",
        "print(\"segundo maior valor: \", second_largest_value)"
      ]
    },
    {
      "cell_type": "markdown",
      "metadata": {
        "id": "67FxjvsaRHnQ"
      },
      "source": [
        "Buscar os valores top 20"
      ]
    },
    {
      "cell_type": "code",
      "execution_count": null,
      "metadata": {
        "colab": {
          "base_uri": "https://localhost:8080/"
        },
        "execution": {
          "iopub.execute_input": "2021-02-03T20:49:12.305689Z",
          "iopub.status.busy": "2021-02-03T20:49:12.304965Z",
          "iopub.status.idle": "2021-02-03T20:49:12.307441Z",
          "shell.execute_reply": "2021-02-03T20:49:12.308116Z"
        },
        "id": "T0WzvFAeRHnQ",
        "outputId": "eee60f90-83d2-4071-c16a-d5d0e378934c"
      },
      "outputs": [
        {
          "data": {
            "text/plain": [
              "array([ 7.45733333,  7.46821667,  7.47621667,  7.5608    ,  7.67621667,\n",
              "        7.69736667,  7.93778333,  8.03933333,  8.06911667,  8.22333333,\n",
              "        8.38181667,  8.42955   ,  8.67978333,  8.83755   ,  8.93333333,\n",
              "        9.12888333,  9.36      ,  9.96555   , 11.47421667, 12.02633333])"
            ]
          },
          "execution_count": 44,
          "metadata": {},
          "output_type": "execute_result"
        }
      ],
      "source": [
        "sorted_values[-20:]"
      ]
    },
    {
      "cell_type": "markdown",
      "metadata": {
        "id": "EfQ9cZOxRHnQ"
      },
      "source": [
        "### **Média**\n",
        "\n",
        "As vezes, é necessário identidicar a centralização dos dados. Para chegar em tal resultado, a média $${\\bar {x}}$$ (a soma dos dados dividida pelo número de elementos) pode ser uma alternativa: "
      ]
    },
    {
      "cell_type": "markdown",
      "metadata": {
        "id": "YAh2_FlzRHnQ"
      },
      "source": [
        "$${\\bar {x}}={\\frac {1}{n}}\\left(\\sum _{i=1}^{n}{x_{i}}\\right)={\\frac {x_{1}+x_{2}+\\cdots +x_{n}}{n}}$$ "
      ]
    },
    {
      "cell_type": "markdown",
      "metadata": {
        "id": "ZYSzqpuvRHnQ"
      },
      "source": [
        "Uma função para o cálculo da média:"
      ]
    },
    {
      "cell_type": "code",
      "execution_count": null,
      "metadata": {
        "execution": {
          "iopub.execute_input": "2021-02-03T20:49:12.312693Z",
          "iopub.status.busy": "2021-02-03T20:49:12.312138Z",
          "iopub.status.idle": "2021-02-03T20:49:12.314835Z",
          "shell.execute_reply": "2021-02-03T20:49:12.315291Z"
        },
        "id": "HFBUmWj7RHnQ",
        "outputId": "8a419c26-9648-438f-e7a2-5f1c2f209da1"
      },
      "outputs": [
        {
          "name": "stdout",
          "output_type": "stream",
          "text": [
            "media:  3.8836518470391788\n"
          ]
        }
      ],
      "source": [
        "def mean(x):\n",
        "    return sum(x) / len(x)\n",
        "\n",
        "print(\"media: \", mean(data))"
      ]
    },
    {
      "cell_type": "markdown",
      "metadata": {
        "id": "dJB6KIZ4RHnR"
      },
      "source": [
        "Ou de forma equivalente, pode-se usar x.mean() caso x seja um vetor `numpy`."
      ]
    },
    {
      "cell_type": "code",
      "execution_count": null,
      "metadata": {
        "execution": {
          "iopub.execute_input": "2021-02-03T20:49:12.319390Z",
          "iopub.status.busy": "2021-02-03T20:49:12.318481Z",
          "iopub.status.idle": "2021-02-03T20:49:12.321984Z",
          "shell.execute_reply": "2021-02-03T20:49:12.322708Z"
        },
        "id": "58OeKb-XRHnR",
        "outputId": "f94ec462-ac1b-45ac-ab46-ab3f0b33eea9"
      },
      "outputs": [
        {
          "data": {
            "text/plain": [
              "3.883651847039168"
            ]
          },
          "execution_count": 1,
          "metadata": {},
          "output_type": "execute_result"
        }
      ],
      "source": [
        "data.mean()"
      ]
    },
    {
      "cell_type": "markdown",
      "metadata": {
        "id": "9ZVLQE5gRHnR"
      },
      "source": [
        "Ou ainda"
      ]
    },
    {
      "cell_type": "code",
      "execution_count": null,
      "metadata": {
        "execution": {
          "iopub.execute_input": "2021-02-03T20:49:12.326638Z",
          "iopub.status.busy": "2021-02-03T20:49:12.325881Z",
          "iopub.status.idle": "2021-02-03T20:49:12.328884Z",
          "shell.execute_reply": "2021-02-03T20:49:12.329356Z"
        },
        "id": "rYRdDO5nRHnR",
        "outputId": "f9c87069-d6ee-4edd-803b-faeeea105fd6"
      },
      "outputs": [
        {
          "data": {
            "text/plain": [
              "3.883651847039168"
            ]
          },
          "execution_count": 1,
          "metadata": {},
          "output_type": "execute_result"
        }
      ],
      "source": [
        "np.mean(data)"
      ]
    },
    {
      "cell_type": "code",
      "execution_count": null,
      "metadata": {
        "execution": {
          "iopub.execute_input": "2021-02-03T20:49:12.352348Z",
          "iopub.status.busy": "2021-02-03T20:49:12.349693Z",
          "iopub.status.idle": "2021-02-03T20:49:12.554410Z",
          "shell.execute_reply": "2021-02-03T20:49:12.554891Z"
        },
        "id": "Fgsr-m-TRHnR",
        "outputId": "409226b0-ef14-4832-f14c-def782ad7f7c"
      },
      "outputs": [
        {
          "data": {
            "image/png": "[encoded data removed]",
            "text/plain": [
              "<Figure size 1152x720 with 1 Axes>"
            ]
          },
          "metadata": {
            "needs_background": "light"
          },
          "output_type": "display_data"
        }
      ],
      "source": [
        "plt.hist(data, bins=20, label='PDF', edgecolor='k')\n",
        "plt.vlines(data.mean(), 0, 1900, label='Mean', edgecolor='k')\n",
        "plt.xlabel('Duração em minutos')\n",
        "plt.ylabel('P(X = x)')\n",
        "plt.legend()\n",
        "despine()\n",
        "plt.show()"
      ]
    },
    {
      "cell_type": "markdown",
      "metadata": {
        "id": "-yU9qXR_RHnR"
      },
      "source": [
        "### **Mediana**\n",
        "\n",
        "Mediana é o valor que separa a metade maior e a metade menor de uma amostra, uma população ou uma distribuição de probabilidade. Em termos mais simples, mediana pode ser o valor do meio de um conjunto de dados. No conjunto de dados {1, 3, 3, 6, 7, 8, 9}, por exemplo, a mediana é 6. Se houver um número par de observações, não há um único valor do meio. Então, a mediana é definida como a média dos dois valores do meio. No conjunto de dados {3, 5, 7, 9}, a mediana é:\n",
        "$${\\frac {5+7}{2} = 6}$$ \n",
        "\n",
        "Observe que, ao contrário da média, a mediana não depende de todos os valores contidos na amostra. Por exemplo, se o maior ponto ou o menor ponto for alterado, os pontos do meio permanecem iguais, o que significa que a mediana também.\n",
        "\n"
      ]
    },
    {
      "cell_type": "code",
      "execution_count": null,
      "metadata": {
        "execution": {
          "iopub.execute_input": "2021-02-03T20:49:12.560643Z",
          "iopub.status.busy": "2021-02-03T20:49:12.560171Z",
          "iopub.status.idle": "2021-02-03T20:49:12.563396Z",
          "shell.execute_reply": "2021-02-03T20:49:12.564089Z"
        },
        "id": "_pidPvVLRHnS"
      },
      "outputs": [],
      "source": [
        "def median(v):\n",
        "    \"\"\"encontra o valor mais intermediario de v\"\"\"\n",
        "    n = len(v)\n",
        "    sorted_v = list(sorted(v))\n",
        "    midpoint = n // 2 # // eh a divisao inteira\n",
        "    \n",
        "    if n % 2 == 1:\n",
        "        # se impar, retorna o valor do meio\n",
        "        return sorted_v[midpoint]\n",
        "    else:\n",
        "        # se par, retorna a media dos dois valores intermediarios\n",
        "        lo = midpoint - 1\n",
        "        hi = midpoint\n",
        "        return (sorted_v[lo] + sorted_v[hi]) / 2"
      ]
    },
    {
      "cell_type": "code",
      "execution_count": null,
      "metadata": {
        "execution": {
          "iopub.execute_input": "2021-02-03T20:49:12.568300Z",
          "iopub.status.busy": "2021-02-03T20:49:12.567604Z",
          "iopub.status.idle": "2021-02-03T20:49:12.570842Z",
          "shell.execute_reply": "2021-02-03T20:49:12.571561Z"
        },
        "id": "e5QxXSnaRHnS"
      },
      "outputs": [],
      "source": [
        "def median_v2(v):\n",
        "    n = len(v)\n",
        "    sorted_v = sorted(v)\n",
        "    return (sorted_v[math.floor((n-1)/2)] + sorted_v[math.ceil((n-1)/2)])/2"
      ]
    },
    {
      "cell_type": "code",
      "execution_count": null,
      "metadata": {
        "execution": {
          "iopub.execute_input": "2021-02-03T20:49:12.577689Z",
          "iopub.status.busy": "2021-02-03T20:49:12.576920Z",
          "iopub.status.idle": "2021-02-03T20:49:12.579370Z",
          "shell.execute_reply": "2021-02-03T20:49:12.580067Z"
        },
        "id": "cr5xRy26RHnS",
        "outputId": "f7b6486d-88bc-4714-ff13-5fdd678c6133"
      },
      "outputs": [
        {
          "name": "stdout",
          "output_type": "stream",
          "text": [
            "mediana de a =  2.5\n",
            "mediana de b =  7\n",
            "mediana da duração das músicas: 3.79545\n"
          ]
        }
      ],
      "source": [
        "a = [1, 2, 3, 4]\n",
        "b = [5, 6, 7, 8, 9]\n",
        "print(\"mediana de a = \", median(a))\n",
        "print(\"mediana de b = \", median(b))\n",
        "\n",
        "print(\"mediana da duração das músicas:\", median(data))"
      ]
    },
    {
      "cell_type": "markdown",
      "metadata": {
        "id": "ocI5vjqZRHnS"
      },
      "source": [
        "Não há a necessidade de escrever um código para calcular a mediana. Na prática, pode-se usar a `median` do numpy."
      ]
    },
    {
      "cell_type": "code",
      "execution_count": null,
      "metadata": {
        "execution": {
          "iopub.execute_input": "2021-02-03T20:49:12.583998Z",
          "iopub.status.busy": "2021-02-03T20:49:12.583398Z",
          "iopub.status.idle": "2021-02-03T20:49:12.586223Z",
          "shell.execute_reply": "2021-02-03T20:49:12.586692Z"
        },
        "id": "q6QcepL1RHnS",
        "outputId": "0d7294f5-565d-417c-b724-26e1a048f5aa"
      },
      "outputs": [
        {
          "data": {
            "text/plain": [
              "2.5"
            ]
          },
          "execution_count": 1,
          "metadata": {},
          "output_type": "execute_result"
        }
      ],
      "source": [
        "np.median(a)"
      ]
    },
    {
      "cell_type": "code",
      "execution_count": null,
      "metadata": {
        "execution": {
          "iopub.execute_input": "2021-02-03T20:49:12.611257Z",
          "iopub.status.busy": "2021-02-03T20:49:12.610237Z",
          "iopub.status.idle": "2021-02-03T20:49:12.806267Z",
          "shell.execute_reply": "2021-02-03T20:49:12.806934Z"
        },
        "id": "taNgsyo0RHnS",
        "outputId": "468b42f9-8f8f-4f31-f2ab-c9ff51f33754"
      },
      "outputs": [
        {
          "data": {
            "image/png": "[encoded data removed]",
            "text/plain": [
              "<Figure size 1152x720 with 1 Axes>"
            ]
          },
          "metadata": {
            "needs_background": "light"
          },
          "output_type": "display_data"
        }
      ],
      "source": [
        "plt.hist(data, bins=20, label='Freq.', edgecolor='k')\n",
        "plt.vlines(data.mean(), 0, 1900, label='Mean', edgecolor='k')\n",
        "plt.vlines(data.median(), 0, 1900, linestyles='--', label='Median', color='red')\n",
        "plt.xlabel('Duração em minutos')\n",
        "plt.ylabel('Freq')\n",
        "plt.legend()\n",
        "despine()\n",
        "plt.show()"
      ]
    },
    {
      "cell_type": "markdown",
      "metadata": {
        "id": "g2VgZmYWRHnS"
      },
      "source": [
        "### **Boxplot**\n",
        "\n",
        "Um boxplot pode ser usado para representar a variação de dados observados de uma variável numérica por meio de quartis. Neste caso, para observar as durações de filmes. \n",
        "\n",
        "1. primeiro quartil (designado por Q1/4) = quartil inferior = é o valor aos 25% da amostra ordenada = 25º percentil\n",
        "1. segundo quartil (designado por Q2/4) = mediana = é o valor até ao qual se encontra 50% da amostra ordenada = 50º percentil, ou 5º decil.\n",
        "1. terceiro quartil (designado por Q3/4) = quartil superior = valor a partir do qual se encontram 25% dos valores mais elevados = valor aos 75% da amostra ordenada = 75º percentil"
      ]
    },
    {
      "cell_type": "code",
      "execution_count": null,
      "metadata": {
        "execution": {
          "iopub.execute_input": "2021-02-03T20:49:12.822104Z",
          "iopub.status.busy": "2021-02-03T20:49:12.821345Z",
          "iopub.status.idle": "2021-02-03T20:49:12.894643Z",
          "shell.execute_reply": "2021-02-03T20:49:12.895310Z"
        },
        "id": "krXO0u_RRHnT",
        "outputId": "424433a5-2586-4d30-8797-a062c825ba0e"
      },
      "outputs": [
        {
          "name": "stderr",
          "output_type": "stream",
          "text": [
            "<ipython-input-1-61fb73fbad47>:4: UserWarning: FixedFormatter should only be used together with FixedLocator\n",
            "  ax.set_yticklabels(['Duração'])\n"
          ]
        },
        {
          "data": {
            "image/png": "[encoded data removed]",
            "text/plain": [
              "<Figure size 1152x720 with 1 Axes>"
            ]
          },
          "metadata": {
            "needs_background": "light"
          },
          "output_type": "display_data"
        }
      ],
      "source": [
        "# com whis=[5, 95] eu mostro P(X < x) = 5% e P(X > x) = 95%\n",
        "plt.boxplot([data], sym='', vert=True, whis=[5, 95])\n",
        "ax = plt.gca()\n",
        "ax.set_yticklabels(['Duração'])\n",
        "plt.show()"
      ]
    },
    {
      "cell_type": "markdown",
      "metadata": {
        "id": "duDCGqmNRHnT"
      },
      "source": [
        "Claramente, a média é mais simples de calcular e varia suavemente conforme a alteração dos dados. Dado um conjunto `n` de pontos de dados e um deles aumentar em alguma quantidade pequena `e`, então necessariamente a média aumentará em `e/n`. (Isso torna a média passível de todo tipo de truque de cálculo.) No entanto, para encontrar a mediana, é necessário ordenar os dados. E alterar um dos pontos de dados em uma pequena quantidade `e` pode aumentar a mediana por `e`, por algum número menor que `e` ou não a modificar de qualquer forma (dependendo do resto dos dados).\n",
        "\n",
        "**Observação:** é possível calcular a mediana sem ordenação, mas não é foco aqui. \n",
        "\n",
        "Ao mesmo tempo, a média é muito sensível a valores discrepantes (*outliers*). Se a música mais longa fosse de mais de 1h (https://www.youtube.com/watch?v=10SnNfxjAI8), a média seria afetada. Em contraprtida, a mediana permaneceria a mesma. Se os valores discrepantes forem, provavelmente, dados incorretos (ou, de outro modo, não representativos de qualquer fenômeno que se busca entender), a média poderá, às vezes, nos fornecer uma imagem enganosa. Por exemplo, a história é frequentemente contada que em meados da década de 1980, a graduação da Universidade da Carolina do Norte com a maior média de salário inicial era a geografia. A razão disso? A estrela da NBA (e *outlier*) Michael Jordan formou-se em geografia."
      ]
    },
    {
      "cell_type": "code",
      "execution_count": null,
      "metadata": {
        "execution": {
          "iopub.execute_input": "2021-02-03T20:49:12.900049Z",
          "iopub.status.busy": "2021-02-03T20:49:12.899277Z",
          "iopub.status.idle": "2021-02-03T20:49:12.902465Z",
          "shell.execute_reply": "2021-02-03T20:49:12.903166Z"
        },
        "id": "k9I1DkwcRHnT",
        "outputId": "728ed50f-c3b9-4616-9bb8-4127315f7046"
      },
      "outputs": [
        {
          "name": "stdout",
          "output_type": "stream",
          "text": [
            "3.883651847039168 5.738721696362286\n"
          ]
        }
      ],
      "source": [
        "data_new = data.copy()\n",
        "# Vamos supor uma música gigantesca!\n",
        "data_new = data_new.append(pd.Series([9999]))\n",
        "print(data.mean(), data_new.mean())"
      ]
    },
    {
      "cell_type": "markdown",
      "metadata": {
        "id": "kQO8wUK6RHnT"
      },
      "source": [
        "Observe como a mediana se mantém!"
      ]
    },
    {
      "cell_type": "code",
      "execution_count": null,
      "metadata": {
        "execution": {
          "iopub.execute_input": "2021-02-03T20:49:12.907342Z",
          "iopub.status.busy": "2021-02-03T20:49:12.906576Z",
          "iopub.status.idle": "2021-02-03T20:49:12.909510Z",
          "shell.execute_reply": "2021-02-03T20:49:12.910217Z"
        },
        "id": "OZ0pg2GwRHnT",
        "outputId": "9d971330-5580-4289-d6b2-56b892972d80"
      },
      "outputs": [
        {
          "name": "stdout",
          "output_type": "stream",
          "text": [
            "3.79545 3.7955\n"
          ]
        }
      ],
      "source": [
        "print(data.median(), data_new.median())"
      ]
    },
    {
      "cell_type": "markdown",
      "metadata": {
        "id": "0spK7olhRHnU"
      },
      "source": [
        "Uma generalização da mediana é o quantil, que representa o menor valor maior que um certo percentual dos dados (A mediana representa o valor maior que 50% dos dados.)"
      ]
    },
    {
      "cell_type": "code",
      "execution_count": null,
      "metadata": {
        "execution": {
          "iopub.execute_input": "2021-02-03T20:49:12.920077Z",
          "iopub.status.busy": "2021-02-03T20:49:12.919315Z",
          "iopub.status.idle": "2021-02-03T20:49:12.921765Z",
          "shell.execute_reply": "2021-02-03T20:49:12.922465Z"
        },
        "id": "bNLKsj38RHnU",
        "outputId": "d5c41bda-b0ba-42a1-9217-07960446518b"
      },
      "outputs": [
        {
          "name": "stdout",
          "output_type": "stream",
          "text": [
            "quantil 10:  3.0353333333333334\n",
            "quantil 25:  3.38755\n",
            "quantil 75:  4.283333333333333\n",
            "quantil 90:  4.819333333333334\n"
          ]
        }
      ],
      "source": [
        "def quantile(x, p):\n",
        "    \"\"\"retorna o pth-percentil em x\"\"\"\n",
        "    p_index = int(p * len(x))\n",
        "    return sorted(x)[p_index]\n",
        "\n",
        "\n",
        "print(\"quantil 10: \", quantile(data, 0.10))\n",
        "print(\"quantil 25: \", quantile(data,0.25))\n",
        "print(\"quantil 75: \", quantile(data,0.75))\n",
        "print(\"quantil 90: \", quantile(data,0.90))"
      ]
    },
    {
      "cell_type": "markdown",
      "metadata": {
        "id": "zB59fzqXRHnU"
      },
      "source": [
        "## **MODA**\n",
        "Moda amostral de um conjunto de dados trata do valor que ocorre com maior frequência ou o valor mais comum em um conjunto de dados. Moda é especialmente útil quando os valores ou as observações não são numéricos, casos em que a média e a mediana não podem ser definidas. Por exemplo, a moda da amostra {maçã, banana, laranja, laranja, laranja, pêssego} é laranja\n",
        "\n",
        "A moda calcula a medida de tendência central dos dados, que é(são) o(s) valor(es) mais comum(ns). Moda unimodal, bimodal e multimodal."
      ]
    },
    {
      "cell_type": "code",
      "execution_count": null,
      "metadata": {
        "execution": {
          "iopub.execute_input": "2021-02-03T20:49:12.926429Z",
          "iopub.status.busy": "2021-02-03T20:49:12.925909Z",
          "iopub.status.idle": "2021-02-03T20:49:12.928147Z",
          "shell.execute_reply": "2021-02-03T20:49:12.928623Z"
        },
        "id": "bNsgMa9PRHnV"
      },
      "outputs": [],
      "source": [
        "def mode(x):\n",
        "    \"\"\"retorna uma lista, pois os dados podem ter mais de uma moda\"\"\"\n",
        "    x = np.asanyarray(x)\n",
        "    unique, counts = np.unique(x, return_counts=True)\n",
        "    max_count = counts.max()\n",
        "    return unique[counts == max_count]"
      ]
    },
    {
      "cell_type": "code",
      "execution_count": null,
      "metadata": {
        "execution": {
          "iopub.execute_input": "2021-02-03T20:49:12.933544Z",
          "iopub.status.busy": "2021-02-03T20:49:12.931914Z",
          "iopub.status.idle": "2021-02-03T20:49:12.935207Z",
          "shell.execute_reply": "2021-02-03T20:49:12.935669Z"
        },
        "id": "K7ugiQ1nRHnV",
        "outputId": "7c40d79b-658d-445e-8e43-1e306a0df7ce"
      },
      "outputs": [
        {
          "name": "stdout",
          "output_type": "stream",
          "text": [
            "moda de a:  [4]\n"
          ]
        }
      ],
      "source": [
        "a = [1, 2, 3, 4, 2, 4, 4]\n",
        "print(\"moda de a: \", mode(a))"
      ]
    },
    {
      "cell_type": "markdown",
      "metadata": {
        "id": "7JL2NEzhRHnV"
      },
      "source": [
        "Para casos contínuos, como as músicas, a moda faz pouco sentido. Logo é necessário arredondá-los."
      ]
    },
    {
      "cell_type": "code",
      "execution_count": null,
      "metadata": {
        "execution": {
          "iopub.execute_input": "2021-02-03T20:49:12.939283Z",
          "iopub.status.busy": "2021-02-03T20:49:12.938797Z",
          "iopub.status.idle": "2021-02-03T20:49:12.944634Z",
          "shell.execute_reply": "2021-02-03T20:49:12.944151Z"
        },
        "id": "n-mE-zQ_RHnV",
        "outputId": "3893c1ab-eb51-42f6-d6af-82e9858f49e5"
      },
      "outputs": [
        {
          "name": "stdout",
          "output_type": "stream",
          "text": [
            "moda das músicas em minutos truncadas:  [4.]\n"
          ]
        }
      ],
      "source": [
        "print(\"moda das músicas em minutos truncadas: \",\n",
        "      mode(np.round(data, 0)))"
      ]
    },
    {
      "cell_type": "markdown",
      "metadata": {
        "id": "g756WqDCRHnW"
      },
      "source": [
        "### Transformadas\n",
        "\n",
        "Trata-se de uso de descritores para descrever dados, Por exemplo, dados que possuem uma \"cauda longa\", como uma amostra da [distribuição de Pareto](https://en.wikipedia.org/wiki/Pareto_distribution). Um bom exemplo de dados deste tipo é a frequência de palavras nas letras de cada música.\n",
        "Um exemplo aqui é construir uma nova série com tal informação!\n",
        "\n",
        "Cuidado com os dados.\n",
        "1. Músicas se repetem na billboard.\n",
        "2. Retirar acentos e pontuação. Para tal, expressões regulares são úteis."
      ]
    },
    {
      "cell_type": "code",
      "execution_count": null,
      "metadata": {
        "execution": {
          "iopub.execute_input": "2021-02-03T20:49:12.954233Z",
          "iopub.status.busy": "2021-02-03T20:49:12.953788Z",
          "iopub.status.idle": "2021-02-03T20:49:13.941603Z",
          "shell.execute_reply": "2021-02-03T20:49:13.940770Z"
        },
        "id": "PRCES1XiRHnW",
        "outputId": "40abe207-a605-4078-9a30-0304c7279d52"
      },
      "outputs": [
        {
          "data": {
            "text/plain": [
              "fit          160\n",
              "monte          7\n",
              "didnt        675\n",
              "another      833\n",
              "who         1476\n",
              "put         1551\n",
              "secret       104\n",
              "ceilin        20\n",
              "these       1331\n",
              "colorado       7\n",
              "ran          152\n",
              "time        2871\n",
              "day         1457\n",
              "runnin       254\n",
              "think       1851\n",
              "girls        679\n",
              "winnin        37\n",
              "ima          513\n",
              "before       956\n",
              "broke        369\n",
              "dtype: int64"
            ]
          },
          "execution_count": 1,
          "metadata": {},
          "output_type": "execute_result"
        }
      ],
      "source": [
        "from collections import Counter\n",
        "\n",
        "import re\n",
        "\n",
        "counter = Counter()\n",
        "for row in df['lyrics'].unique(): # Com unique eu filtro letras iguais.\n",
        "    # o código re.sub(r'[^\\w\\s]', '', row.lower()) tira todos os acentos!\n",
        "    words = re.sub(r'[^\\w\\s]', '', row.lower()).strip().split()\n",
        "    counter.update(set(words))\n",
        "\n",
        "palavras = pd.Series(counter)\n",
        "palavras.head(20)"
      ]
    },
    {
      "cell_type": "markdown",
      "metadata": {
        "id": "j_4dO_SKRHnW"
      },
      "source": [
        "Verificar o resultado no histograma dos dados:"
      ]
    },
    {
      "cell_type": "code",
      "execution_count": null,
      "metadata": {
        "execution": {
          "iopub.execute_input": "2021-02-03T20:49:13.969529Z",
          "iopub.status.busy": "2021-02-03T20:49:13.966336Z",
          "iopub.status.idle": "2021-02-03T20:49:14.461753Z",
          "shell.execute_reply": "2021-02-03T20:49:14.462312Z"
        },
        "id": "7mzcDOFURHnX",
        "outputId": "2d7eb940-400f-4245-980a-a4390cbd33ec"
      },
      "outputs": [
        {
          "data": {
            "image/png": "[encoded data removed]",
            "text/plain": [
              "<Figure size 1152x720 with 1 Axes>"
            ]
          },
          "metadata": {
            "needs_background": "light"
          },
          "output_type": "display_data"
        }
      ],
      "source": [
        "plt.hist(palavras, bins=100, edgecolor='k')\n",
        "plt.xlabel('Popularidade da palavra')\n",
        "plt.ylabel('Freq.')\n",
        "despine()\n",
        "plt.show()"
      ]
    },
    {
      "cell_type": "code",
      "execution_count": null,
      "metadata": {
        "execution": {
          "iopub.execute_input": "2021-02-03T20:49:14.478736Z",
          "iopub.status.busy": "2021-02-03T20:49:14.466314Z",
          "iopub.status.idle": "2021-02-03T20:49:15.316061Z",
          "shell.execute_reply": "2021-02-03T20:49:15.316453Z"
        },
        "id": "YIt_nYglRHnX",
        "outputId": "2269583f-a39b-4f5d-de98-a1d9fa5d4754",
        "scrolled": true
      },
      "outputs": [
        {
          "data": {
            "image/png": "[encoded data removed]",
            "text/plain": [
              "<Figure size 1152x720 with 1 Axes>"
            ]
          },
          "metadata": {
            "needs_background": "light"
          },
          "output_type": "display_data"
        }
      ],
      "source": [
        "bins = np.logspace(np.log10(palavras.min()), np.log10(palavras.max()))\n",
        "plt.hist(palavras, bins=bins, edgecolor='k')\n",
        "ax = plt.gca()\n",
        "ax.set_yscale('log')\n",
        "ax.set_xscale('log')\n",
        "plt.xlabel('Popularidade da palavra')\n",
        "plt.ylabel('Freq.')\n",
        "despine()\n",
        "plt.show()"
      ]
    },
    {
      "cell_type": "markdown",
      "metadata": {
        "id": "k4xI7JlIRHnX"
      },
      "source": [
        "A grande maioria dos valores é menor que $10$, mas existe uma quantidade significativa de valores na casa das centenas e até dos milhares. \n",
        "\n",
        "Nesse caso, qual é o melhor descritor para esses dados?"
      ]
    },
    {
      "cell_type": "code",
      "execution_count": null,
      "metadata": {
        "execution": {
          "iopub.execute_input": "2021-02-03T20:49:15.333827Z",
          "iopub.status.busy": "2021-02-03T20:49:15.332974Z",
          "iopub.status.idle": "2021-02-03T20:49:15.337006Z",
          "shell.execute_reply": "2021-02-03T20:49:15.337488Z"
        },
        "id": "aJ9dGWzrRHnX",
        "outputId": "01527bbc-7a70-4d06-a6a3-8b8832d75067",
        "scrolled": true
      },
      "outputs": [
        {
          "name": "stdout",
          "output_type": "stream",
          "text": [
            "22.376421549730146 1.0 6528 [1]\n"
          ]
        }
      ],
      "source": [
        "print(mean(palavras),\n",
        "      median(palavras),\n",
        "      max(palavras),\n",
        "      mode(palavras))"
      ]
    },
    {
      "cell_type": "markdown",
      "metadata": {
        "id": "_6X5Lw-YRHnX"
      },
      "source": [
        "Ao que parece, todos eles são importantes."
      ]
    },
    {
      "cell_type": "markdown",
      "metadata": {
        "id": "bOFURqqYRHnX"
      },
      "source": [
        "### Variância e Desvio Padrão\n",
        "\n",
        "Dispersão refere-se a medidas de como se espalham os dados. Normalmente, são estatísticas para as quais valores próximos de zero significam que os dados não se espalham de forma alguma e para as quais grandes valores significam que os dados estão muito dispersos. Por exemplo, uma medida muito simples é o intervalo (ou *range*), que é apenas a diferença entre os elementos maiores e menores:"
      ]
    },
    {
      "cell_type": "code",
      "execution_count": null,
      "metadata": {
        "execution": {
          "iopub.execute_input": "2021-02-03T20:49:15.341410Z",
          "iopub.status.busy": "2021-02-03T20:49:15.340701Z",
          "iopub.status.idle": "2021-02-03T20:49:15.342965Z",
          "shell.execute_reply": "2021-02-03T20:49:15.343561Z"
        },
        "id": "8T8RW6jmRHnX"
      },
      "outputs": [],
      "source": [
        "# \"range\" já significa algo em Python, então vamos usar outro nome\n",
        "def data_range(x):\n",
        "    return max(x) - min(x)"
      ]
    },
    {
      "cell_type": "code",
      "execution_count": null,
      "metadata": {
        "execution": {
          "iopub.execute_input": "2021-02-03T20:49:15.347978Z",
          "iopub.status.busy": "2021-02-03T20:49:15.347432Z",
          "iopub.status.idle": "2021-02-03T20:49:15.350453Z",
          "shell.execute_reply": "2021-02-03T20:49:15.350857Z"
        },
        "id": "kvcQS6BXRHnY",
        "outputId": "f551654d-ebea-4018-fe5a-3815a48ab51a"
      },
      "outputs": [
        {
          "name": "stdout",
          "output_type": "stream",
          "text": [
            "range:  11.40855\n"
          ]
        }
      ],
      "source": [
        "print(\"range: \", data_range(data))"
      ]
    },
    {
      "cell_type": "markdown",
      "metadata": {
        "id": "-w2xHYgcRHnY"
      },
      "source": [
        "O intervalo é zero precisamente quando `max` e `min` são iguais, o que só pode acontecer se os elementos de `x` forem todos iguais, o que significa que os dados são tão similares (ou não dispersos) quanto possível. Por outro lado, se o intervalo for grande, o `max` é muito maior que o `min` e os dados estão mais espalhados.\n",
        "\n",
        "Uma medida de dispersão é a variância $s^2$. Quando a variância da população é estimada usando $n$ amostras aleatórias $x_1, x_2, ..., x_n$ a fórmula seguinte é um estimador não enviesado:\n",
        "\n",
        "$$s^{2}={\\frac {1}{n-1}}\\sum _{i=1}^{n}\\left(x_{i}-\\overline {x}\\right)^{2}$$\n",
        "\n",
        "Dado um conjunto de dados, a variância é uma medida de dispersão que mostra o quão distante cada valor desse conjunto está do valor central (médio). Quanto menor é a variância, mais próximos os valores estão da média; mas quanto maior ela é, mais os valores estão distantes da média."
      ]
    },
    {
      "cell_type": "markdown",
      "metadata": {
        "id": "s0vBMgYZRHnY"
      },
      "source": [
        "O código abaixo faz o mesmo:"
      ]
    },
    {
      "cell_type": "code",
      "execution_count": null,
      "metadata": {
        "execution": {
          "iopub.execute_input": "2021-02-03T20:49:15.357406Z",
          "iopub.status.busy": "2021-02-03T20:49:15.356889Z",
          "iopub.status.idle": "2021-02-03T20:49:15.361858Z",
          "shell.execute_reply": "2021-02-03T20:49:15.361060Z"
        },
        "id": "N45S-gD2RHnY",
        "outputId": "6068ca5a-2ebf-4148-8148-e81357b424e2"
      },
      "outputs": [
        {
          "name": "stdout",
          "output_type": "stream",
          "text": [
            "variancia:  0.6377261715977038\n"
          ]
        }
      ],
      "source": [
        "def de_mean(x):\n",
        "    \"\"\"translada x subtraindo sua média (então o resultado tem média 0)\"\"\"\n",
        "    x_bar = mean(x)\n",
        "    return [x_i - x_bar for x_i in x]\n",
        "\n",
        "def variance(x):\n",
        "    \"\"\"assume que x tem pelo menos dois elementos\"\"\"\n",
        "    n = len(x)\n",
        "    deviations = de_mean(x)\n",
        "    deviations = np.array(deviations) #vamos usar numpy muito de agora em diante\n",
        "    return np.sum(deviations ** 2) / (n-1)\n",
        "    #voce pode usar a funcao que implementamos anteriormente:\n",
        "    #return sum_of_squares(deviations) / (n - 1)\n",
        "\n",
        "print(\"variancia: \", variance(data))"
      ]
    },
    {
      "cell_type": "markdown",
      "metadata": {
        "id": "ov5bIUxuRHnY"
      },
      "source": [
        "A primeira observação é o uso do módulo `numpy`. esse módulo contém diversas operações sobre listas, que são implementadas de forma eficiente.\n",
        "\n",
        "Segundo, parece que a variância é quase o desvio médio da média, exceto pelo fato de estarmos dividindo por `n-1` em vez de `n`. De fato, quando estamos lidando com uma amostra de uma população maior, $\\overline {x}$ é apenas uma estimativa da média real, o que significa que, em média $\\left(x_{i}-\\overline {x}\\right)^{2}$ é uma subestimativa do desvio ao quadrado de $x_i$ em relação à média. Por isso que nós dividimos por `n-1` ao invés de `n`. Para mais informações, consulte o [Wikipedia](https://en.wikipedia.org/wiki/Unbiased_estimation_of_standard_deviation).\n",
        "\n",
        "Agora, quaisquer que sejam as unidades em que nossos dados estão (por exemplo, \"# de amigos\"), todas as nossas medidas de tendência central estão nessa mesma unidade. O intervalo será similarmente nessa mesma unidade. A variância, por outro lado, tem unidades que são o quadrado das unidades originais (por exemplo, \" # de amigos ao quadrado\"). Como pode ser difícil entender essa medida, muitas vezes olhamos para o desvio padrão $s = \\sqrt{s^2}$:"
      ]
    },
    {
      "cell_type": "code",
      "execution_count": null,
      "metadata": {
        "execution": {
          "iopub.execute_input": "2021-02-03T20:49:15.365955Z",
          "iopub.status.busy": "2021-02-03T20:49:15.365474Z",
          "iopub.status.idle": "2021-02-03T20:49:15.369113Z",
          "shell.execute_reply": "2021-02-03T20:49:15.369592Z"
        },
        "id": "Kb-VXY0KRHnY",
        "outputId": "3fb4b9e9-33e9-44dd-e4cb-18b0fc6527c1"
      },
      "outputs": [
        {
          "name": "stdout",
          "output_type": "stream",
          "text": [
            "desvio padrao:  0.7985034684732251\n"
          ]
        }
      ],
      "source": [
        "print(\"desvio padrao: \", np.std(data))"
      ]
    },
    {
      "cell_type": "markdown",
      "metadata": {
        "id": "jHoUPnVlRHnY"
      },
      "source": [
        "Tanto o intervalo quanto o desvio padrão têm o mesmo problema discrepante que vimos anteriormente para a média. Usando o mesmo exemplo, se nosso usuário mais amigável tivesse `2000` amigos, o desvio padrão seria muito maior somente por causa desse usuário. Uma alternativa mais robusta calcula a diferença entre o valor do 75º e do 25º percentil:"
      ]
    },
    {
      "cell_type": "code",
      "execution_count": null,
      "metadata": {
        "execution": {
          "iopub.execute_input": "2021-02-03T20:49:15.378853Z",
          "iopub.status.busy": "2021-02-03T20:49:15.377942Z",
          "iopub.status.idle": "2021-02-03T20:49:15.383877Z",
          "shell.execute_reply": "2021-02-03T20:49:15.383369Z"
        },
        "id": "Sfx6aMBaRHnY",
        "outputId": "4d251efe-a517-4f48-f161-a2998016238a"
      },
      "outputs": [
        {
          "name": "stdout",
          "output_type": "stream",
          "text": [
            "intervalo interquartil: 0.8957833333333332\n"
          ]
        }
      ],
      "source": [
        "def interquartile_range(x):\n",
        "    return quantile(x, 0.75) - quantile(x, 0.25)\n",
        "\n",
        "print(\"intervalo interquartil:\", interquartile_range(data))"
      ]
    },
    {
      "cell_type": "markdown",
      "metadata": {
        "id": "by2uiHEcRHnZ"
      },
      "source": [
        "Essa medida é muito pouco afetada por *outliers*."
      ]
    },
    {
      "cell_type": "code",
      "execution_count": null,
      "metadata": {
        "execution": {
          "iopub.execute_input": "2021-02-03T20:49:15.391911Z",
          "iopub.status.busy": "2021-02-03T20:49:15.391253Z",
          "iopub.status.idle": "2021-02-03T20:49:15.403116Z",
          "shell.execute_reply": "2021-02-03T20:49:15.402606Z"
        },
        "id": "rsH-Csx1RHnZ",
        "outputId": "734de707-4082-40a8-8dbe-04d1070bec2e"
      },
      "outputs": [
        {
          "name": "stdout",
          "output_type": "stream",
          "text": [
            "Dispersão para a duração das músicas:\n",
            "Intervalo: 11.40855\n",
            "Variância: 0.6376077891637707\n",
            "Desvio padrão: 0.7985034684732251\n",
            "IQR: 0.8957833333333332\n"
          ]
        }
      ],
      "source": [
        "print(\"Dispersão para a duração das músicas:\")\n",
        "print(\"Intervalo:\", data_range(data))\n",
        "print(\"Variância:\", np.var(data))\n",
        "print(\"Desvio padrão:\", np.std(data))\n",
        "print(\"IQR:\", interquartile_range(data))"
      ]
    },
    {
      "cell_type": "markdown",
      "metadata": {
        "id": "GLuOoVK-RHnZ"
      },
      "source": [
        "Medidas de dispersão para dados com \"cauda longa\":"
      ]
    },
    {
      "cell_type": "code",
      "execution_count": null,
      "metadata": {
        "execution": {
          "iopub.execute_input": "2021-02-03T20:49:15.417952Z",
          "iopub.status.busy": "2021-02-03T20:49:15.415878Z",
          "iopub.status.idle": "2021-02-03T20:49:15.436704Z",
          "shell.execute_reply": "2021-02-03T20:49:15.436079Z"
        },
        "id": "bujm0iYiRHnZ",
        "outputId": "2010ea98-4d02-450c-ac4e-078dbecab1e3"
      },
      "outputs": [
        {
          "name": "stdout",
          "output_type": "stream",
          "text": [
            "Dispersão para as palavras:\n",
            "Intervalo: 6527\n",
            "Variância: 35806.28050708675\n",
            "Desvio padrão: 189.22547531209096\n",
            "IQR: 3\n"
          ]
        }
      ],
      "source": [
        "print(\"Dispersão para as palavras:\")\n",
        "print(\"Intervalo:\", data_range(palavras))\n",
        "print(\"Variância:\", np.var(palavras))\n",
        "print(\"Desvio padrão:\", np.std(palavras))\n",
        "print(\"IQR:\", interquartile_range(palavras))"
      ]
    },
    {
      "cell_type": "markdown",
      "metadata": {
        "id": "QerCE9eGRHnZ"
      },
      "source": [
        "No entanto, tudo isto poderia ser feito com uma única chamada pandas!"
      ]
    },
    {
      "cell_type": "code",
      "execution_count": null,
      "metadata": {
        "execution": {
          "iopub.execute_input": "2021-02-03T20:49:15.446412Z",
          "iopub.status.busy": "2021-02-03T20:49:15.445691Z",
          "iopub.status.idle": "2021-02-03T20:49:15.449227Z",
          "shell.execute_reply": "2021-02-03T20:49:15.450411Z"
        },
        "id": "6QlgVP4vRHnZ",
        "outputId": "e11224ae-bd4e-49fb-b73a-92afee1712c1"
      },
      "outputs": [
        {
          "data": {
            "text/plain": [
              "count    5387.000000\n",
              "mean        3.883652\n",
              "std         0.798578\n",
              "min         0.617783\n",
              "25%         3.387775\n",
              "50%         3.795450\n",
              "75%         4.283108\n",
              "max        12.026333\n",
              "Name: duration_ms, dtype: float64"
            ]
          },
          "execution_count": 1,
          "metadata": {},
          "output_type": "execute_result"
        }
      ],
      "source": [
        "data.describe()"
      ]
    },
    {
      "cell_type": "markdown",
      "metadata": {
        "id": "pxasMZhsRHnZ"
      },
      "source": [
        "Por fim, vamos ver uma correlação entre duração e número de palavras! Explique o código abaixo!"
      ]
    },
    {
      "cell_type": "code",
      "execution_count": null,
      "metadata": {
        "execution": {
          "iopub.execute_input": "2021-02-03T20:49:15.457869Z",
          "iopub.status.busy": "2021-02-03T20:49:15.456877Z",
          "iopub.status.idle": "2021-02-03T20:49:17.191542Z",
          "shell.execute_reply": "2021-02-03T20:49:17.192232Z"
        },
        "id": "bhUoeSRtRHna"
      },
      "outputs": [],
      "source": [
        "letra_e_musica = df[['duration_ms', 'lyrics']].drop_duplicates()\n",
        "letra_e_musica['duration_min'] = letra_e_musica['duration_ms'] / (60 * 1000)\n",
        "\n",
        "x = []\n",
        "y = []\n",
        "for indice, row in letra_e_musica.iterrows():\n",
        "    words = re.sub(r'[^\\w\\s]', '', row['lyrics'].lower()).strip().split()\n",
        "    x.append(len(words))\n",
        "    y.append(row['duration_min'])"
      ]
    },
    {
      "cell_type": "code",
      "execution_count": null,
      "metadata": {
        "execution": {
          "iopub.execute_input": "2021-02-03T20:49:17.223286Z",
          "iopub.status.busy": "2021-02-03T20:49:17.219547Z",
          "iopub.status.idle": "2021-02-03T20:49:17.520574Z",
          "shell.execute_reply": "2021-02-03T20:49:17.521068Z"
        },
        "id": "rVtCxAU8RHna",
        "outputId": "66f4f746-e6ed-4f1b-e796-ac83d3325f8f"
      },
      "outputs": [
        {
          "data": {
            "image/png": "[encoded data removed]",
            "text/plain": [
              "<Figure size 1152x720 with 1 Axes>"
            ]
          },
          "metadata": {
            "needs_background": "light"
          },
          "output_type": "display_data"
        }
      ],
      "source": [
        "plt.scatter(x, y, edgecolor='k', s=80)\n",
        "plt.xlabel('Número de palavras na letra')\n",
        "plt.ylabel('Duração')\n",
        "despine()"
      ]
    },
    {
      "cell_type": "markdown",
      "metadata": {
        "id": "vZx_oL_7Sc79"
      },
      "source": [
        "## **Resumo**\n",
        "Como o nome sugere, a estatística descritiva auxilia na descrição de dados, permitindo compreender as as características desses. A análise descritiva não tem o objetivo de prever algo, fazer suposições ou inferência, mas simplesmente fornecer uma descrição da aparência da amostra de dados que se pretenden utilizar para extrair conhecimento.\n"
      ]
    },
    {
      "cell_type": "code",
      "execution_count": null,
      "metadata": {
        "id": "mGZ6lcMPYuzJ"
      },
      "outputs": [],
      "source": []
    },
    {
      "cell_type": "markdown",
      "metadata": {
        "id": "jOoHLlbxXEYz"
      },
      "source": [
        "## **Exercícios**\n",
        "\n",
        "Escolha uma fonte dados, exceto a utilizada neste notebook e execute: \n",
        "\n",
        "1.   faça a extração desses dados para um dataframe;\n",
        "2.   verifique a necessidade de tratamento dos dados extraídos no que diz a respeito a falta de dados ou dados sujos;\n",
        "1.   verifique o tipos de variáveis contidos no dataframe \n",
        "2.   Verifique se os dados da extração são paramétricos (normal) ou não paramétricos. Dados paramétricos significam que a média e a mediana têm valores muito próximos e, ambas são representativas dos grupos a que pertencem. Quando os dados ou amostra é não paramétrica (não normal) a média passa a ter comportamento discrepante em relação à mediana e, portanto, deixa de ser representativa.\n",
        "\n",
        "Este exercício é um prelúdio para a atividade de análise exploratória de dados que teremos como avaliação (N1).\n",
        "\n",
        "\n",
        "\n"
      ]
    }
  ],
  "metadata": {
    "colab": {
      "provenance": []
    },
    "kernelspec": {
      "display_name": "Python 3",
      "language": "python",
      "name": "python3"
    },
    "language_info": {
      "codemirror_mode": {
        "name": "ipython",
        "version": 3
      },
      "file_extension": ".py",
      "mimetype": "text/x-python",
      "name": "python",
      "nbconvert_exporter": "python",
      "pygments_lexer": "ipython3",
      "version": "3.9.6"
    }
  },
  "nbformat": 4,
  "nbformat_minor": 0
}
